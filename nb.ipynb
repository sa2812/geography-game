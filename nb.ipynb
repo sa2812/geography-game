{
 "cells": [
  {
   "cell_type": "code",
   "execution_count": 1,
   "metadata": {},
   "outputs": [
    {
     "output_type": "stream",
     "name": "stdout",
     "text": "c:\\Users\\amratjx\\Documents\\Coding\\geography-game\n"
    }
   ],
   "source": [
    "%cd C:\\Users\\amratjx\\Documents\\Coding\\geography-game"
   ]
  },
  {
   "cell_type": "code",
   "execution_count": 2,
   "metadata": {},
   "outputs": [],
   "source": [
    "import json\n",
    "import random"
   ]
  },
  {
   "cell_type": "code",
   "execution_count": 3,
   "metadata": {},
   "outputs": [],
   "source": [
    "questions = []\n",
    "with open('questions.json') as json_file:\n",
    "    questions = json.load(json_file)"
   ]
  },
  {
   "cell_type": "code",
   "execution_count": 4,
   "metadata": {},
   "outputs": [
    {
     "output_type": "execute_result",
     "data": {
      "text/plain": "{'url': 'https://upload.wikimedia.org/wikipedia/commons/1/1d/Taj_Mahal_%28Edited%29.jpeg',\n 'question': 'What is the name of this landmark?',\n 'answer': 'Taj Mahal',\n 'options': ['Red Fort', 'Houses of Parliament', 'Shah Jahan Mosque']}"
     },
     "metadata": {},
     "execution_count": 4
    }
   ],
   "source": [
    "question = questions[0]\n",
    "\n",
    "question"
   ]
  },
  {
   "cell_type": "code",
   "execution_count": 37,
   "metadata": {},
   "outputs": [
    {
     "output_type": "stream",
     "name": "stdout",
     "text": "What is the name of this landmark?\nhttps://upload.wikimedia.org/wikipedia/commons/1/1d/Taj_Mahal_%28Edited%29.jpeg\nTaj Mahal\nShah Jahan Mosque\nRed Fort\nHouses of Parliament\n"
    }
   ],
   "source": [
    "# Write a function that prints the link to the image, and shows the four options in a random order\n",
    "def display_question(question):\n",
    "    \"\"\"\n",
    "    Next exercise:\n",
    "\n",
    "    Print questions in a random order, but also print which one is the correct answer and which is incorrect\n",
    "\n",
    "    Eg output:\n",
    "\n",
    "    Question\n",
    "    URL\n",
    "    Option 3 (incorrect)\n",
    "    Option 1 (incorrect)\n",
    "    Answer (correct)\n",
    "    Option 2 (incorrect)\n",
    "    \"\"\"\n",
    "    print(question['question'])\n",
    "    print(question['url'])\n",
    "    \n",
    "    keys = question['options'] + [question['answer']]\n",
    "    random.shuffle(keys)\n",
    "    for key in keys:\n",
    "        print(key)\n",
    "\n",
    "display_question(question)"
   ]
  },
  {
   "cell_type": "code",
   "execution_count": null,
   "metadata": {},
   "outputs": [],
   "source": []
  },
  {
   "cell_type": "code",
   "execution_count": null,
   "metadata": {},
   "outputs": [],
   "source": []
  }
 ],
 "metadata": {
  "language_info": {
   "codemirror_mode": {
    "name": "ipython",
    "version": 3
   },
   "file_extension": ".py",
   "mimetype": "text/x-python",
   "name": "python",
   "nbconvert_exporter": "python",
   "pygments_lexer": "ipython3",
   "version": "3.7.3-final"
  },
  "orig_nbformat": 2,
  "kernelspec": {
   "name": "python37332bitbf922ae7c22a4890adde35ccfb80e3b7",
   "display_name": "Python 3.7.3 32-bit"
  }
 },
 "nbformat": 4,
 "nbformat_minor": 2
}